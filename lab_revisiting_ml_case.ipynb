{
 "cells": [
  {
   "cell_type": "markdown",
   "id": "abfecab7-eb44-43a3-9707-7dec4fcd88fa",
   "metadata": {},
   "source": [
    "# Lab | Revisiting Machine Learning Case Study"
   ]
  },
  {
   "cell_type": "code",
   "execution_count": 1,
   "id": "b78ff6df-f317-412a-a7f3-20073cd2d57f",
   "metadata": {},
   "outputs": [],
   "source": [
    "import pandas as pd"
   ]
  },
  {
   "cell_type": "code",
   "execution_count": 2,
   "id": "52f0dfe1-7da0-4c13-ac94-16977ebf2573",
   "metadata": {},
   "outputs": [],
   "source": [
    "#read in the data\n",
    "data = pd.read_csv('learningSet.csv', low_memory=False)"
   ]
  },
  {
   "cell_type": "code",
   "execution_count": 3,
   "id": "20cfb515-8a80-409b-a033-4bc332227d1e",
   "metadata": {},
   "outputs": [],
   "source": [
    "pd.options.display.max_rows = None"
   ]
  },
  {
   "cell_type": "markdown",
   "id": "633e5818-b5c2-4e3a-a492-68fced08727d",
   "metadata": {},
   "source": [
    "## getting categorical cols"
   ]
  },
  {
   "cell_type": "code",
   "execution_count": 4,
   "id": "8c76942d-47fe-4de3-b9d2-1de6b2d013e1",
   "metadata": {},
   "outputs": [],
   "source": [
    "categoricals = data.select_dtypes('object')"
   ]
  },
  {
   "cell_type": "code",
   "execution_count": 5,
   "id": "81976b29-5f1b-4f57-8b69-718b6422c2a0",
   "metadata": {},
   "outputs": [
    {
     "data": {
      "text/plain": [
       "(95412, 74)"
      ]
     },
     "execution_count": 5,
     "metadata": {},
     "output_type": "execute_result"
    }
   ],
   "source": [
    "categoricals.shape"
   ]
  },
  {
   "cell_type": "markdown",
   "id": "10dde3ae-52a2-4082-8c85-8f60aaad9949",
   "metadata": {},
   "source": [
    "## checking for nulls"
   ]
  },
  {
   "cell_type": "code",
   "execution_count": 6,
   "id": "6cda0b98-e0c3-4587-874f-bc5d609dcf94",
   "metadata": {
    "scrolled": true
   },
   "outputs": [
    {
     "data": {
      "text/plain": [
       "OSOURCE     0.000000\n",
       "STATE       0.000000\n",
       "ZIP         0.000000\n",
       "MAILCODE    0.000000\n",
       "PVASTATE    0.000000\n",
       "NOEXCH      0.000000\n",
       "RECINHSE    0.000000\n",
       "RECP3       0.000000\n",
       "RECPGVG     0.000000\n",
       "RECSWEEP    0.000000\n",
       "MDMAUD      0.000000\n",
       "DOMAIN      0.000000\n",
       "CLUSTER     0.000000\n",
       "AGEFLAG     0.000000\n",
       "HOMEOWNR    0.000000\n",
       "CHILD03     0.000000\n",
       "CHILD07     0.000000\n",
       "CHILD12     0.000000\n",
       "CHILD18     0.000000\n",
       "GENDER      0.000000\n",
       "DATASRCE    0.000000\n",
       "SOLP3       0.000000\n",
       "SOLIH       0.000000\n",
       "MAJOR       0.000000\n",
       "GEOCODE     0.000000\n",
       "COLLECT1    0.000000\n",
       "VETERANS    0.000000\n",
       "BIBLE       0.000000\n",
       "CATLG       0.000000\n",
       "HOMEE       0.000000\n",
       "PETS        0.000000\n",
       "CDPLAY      0.000000\n",
       "STEREO      0.000000\n",
       "PCOWNERS    0.000000\n",
       "PHOTO       0.000000\n",
       "CRAFTS      0.000000\n",
       "FISHER      0.000000\n",
       "GARDENIN    0.000000\n",
       "BOATS       0.000000\n",
       "WALKER      0.000000\n",
       "KIDSTUFF    0.000000\n",
       "CARDS       0.000000\n",
       "PLATES      0.000000\n",
       "LIFESRC     0.000000\n",
       "PEPSTRFL    0.000000\n",
       "RFA_2       0.000000\n",
       "RFA_3       0.000000\n",
       "RFA_4       0.000000\n",
       "RFA_5       0.000000\n",
       "RFA_6       0.000000\n",
       "RFA_7       0.000000\n",
       "RFA_8       0.000000\n",
       "RFA_9       0.000000\n",
       "RFA_10      0.000000\n",
       "RFA_11      0.000000\n",
       "RFA_12      0.000000\n",
       "RFA_13      0.000000\n",
       "RFA_14      0.000000\n",
       "RFA_15      0.000000\n",
       "RFA_16      0.000000\n",
       "RFA_17      0.000000\n",
       "RFA_18      0.000000\n",
       "RFA_19      0.000000\n",
       "RFA_20      0.000000\n",
       "RFA_21      0.000000\n",
       "RFA_22      0.000000\n",
       "RFA_23      0.000000\n",
       "RFA_24      0.000000\n",
       "RFA_2R      0.000000\n",
       "RFA_2A      0.000000\n",
       "MDMAUD_R    0.000000\n",
       "MDMAUD_F    0.000000\n",
       "MDMAUD_A    0.000000\n",
       "GEOCODE2    0.001383\n",
       "dtype: float64"
      ]
     },
     "execution_count": 6,
     "metadata": {},
     "output_type": "execute_result"
    }
   ],
   "source": [
    "categoricals.isnull().sum()/len(categoricals)"
   ]
  },
  {
   "cell_type": "code",
   "execution_count": 7,
   "id": "688a4b7e-dc9a-4087-80a7-7a493ee1aacb",
   "metadata": {},
   "outputs": [],
   "source": [
    "#creating a new list to store col names to drop\n",
    "drop_list=[]"
   ]
  },
  {
   "cell_type": "code",
   "execution_count": 8,
   "id": "b08571a4-1e03-4e6f-a25f-0f916b69e17e",
   "metadata": {},
   "outputs": [],
   "source": [
    "#appending cols to dro\n",
    "drop_list.append('OSOURCE')\n",
    "drop_list.append('ZIP')"
   ]
  },
  {
   "cell_type": "code",
   "execution_count": 10,
   "id": "adef557d-2af4-4f77-a404-11f8acfa50d2",
   "metadata": {},
   "outputs": [],
   "source": [
    "#id columns that are over 85% missing values\n",
    "def get_columns(df:pd.DataFrame, thr:float=0.25) -> list:\n",
    "    \n",
    "    df_temp = df.copy()\n",
    "    \n",
    "    per_nulls = pd.DataFrame(df_temp.isna().sum()/len(df_temp)).reset_index()\n",
    "    per_nulls.columns = ['column_name', 'nulls_percentage']\n",
    "\n",
    "    cols_above_thresh = list(per_nulls[per_nulls['nulls_percentage']>thr]['column_name'].values)\n",
    "\n",
    "    return cols_above_thresh"
   ]
  },
  {
   "cell_type": "code",
   "execution_count": 11,
   "id": "1aacfe19-72fc-426e-95c9-905a1b16c401",
   "metadata": {},
   "outputs": [],
   "source": [
    "cols_over_thresh = get_columns(categoricals, 0.85)"
   ]
  },
  {
   "cell_type": "code",
   "execution_count": 12,
   "id": "c8ce2e9e-53f4-4e38-81de-7cf695a9aca2",
   "metadata": {
    "scrolled": true
   },
   "outputs": [
    {
     "data": {
      "text/plain": [
       "[]"
      ]
     },
     "execution_count": 12,
     "metadata": {},
     "output_type": "execute_result"
    }
   ],
   "source": [
    "cols_over_thresh"
   ]
  },
  {
   "cell_type": "code",
   "execution_count": 13,
   "id": "60481680-9b7f-4d96-8e0f-f1b742441491",
   "metadata": {},
   "outputs": [],
   "source": [
    "drop_list.extend(cols_over_thresh)"
   ]
  },
  {
   "cell_type": "code",
   "execution_count": 14,
   "id": "ac370020-fe77-488b-b31f-f8e5c4a6bc15",
   "metadata": {},
   "outputs": [],
   "source": [
    "#removing cols from dataframe\n",
    "categoricals.drop(drop_list, axis = 1, inplace=True)"
   ]
  },
  {
   "cell_type": "code",
   "execution_count": 16,
   "id": "634ae7f8-0258-489d-b1cc-56e580509715",
   "metadata": {},
   "outputs": [
    {
     "data": {
      "text/plain": [
       "array(['F', 'M', ' ', 'C', 'U', 'J', 'A'], dtype=object)"
      ]
     },
     "execution_count": 16,
     "metadata": {},
     "output_type": "execute_result"
    }
   ],
   "source": [
    "categoricals['GENDER'].unique()"
   ]
  },
  {
   "cell_type": "code",
   "execution_count": 23,
   "id": "08c88519-30b3-43c5-8204-65f7380d330f",
   "metadata": {},
   "outputs": [],
   "source": [
    "def group_gender(df):\n",
    "    #fill nan's with 'F'\n",
    "    df['GENDER'] = df['GENDER'].fillna('F')\n",
    "\n",
    "    #replace values with other\n",
    "    df['GENDER'] = df['GENDER'].apply(lambda x: 'other' if x not in ['F', 'M'] else x)"
   ]
  },
  {
   "cell_type": "code",
   "execution_count": 27,
   "id": "dd64bbb8-6436-4042-a56b-4d2c90ef8e1d",
   "metadata": {},
   "outputs": [],
   "source": [
    "group_gender(categoricals)"
   ]
  },
  {
   "cell_type": "code",
   "execution_count": 28,
   "id": "ddaff957-ed89-4ef1-9e49-85fd3887c73b",
   "metadata": {},
   "outputs": [
    {
     "data": {
      "text/plain": [
       "array(['F', 'M', 'other'], dtype=object)"
      ]
     },
     "execution_count": 28,
     "metadata": {},
     "output_type": "execute_result"
    }
   ],
   "source": [
    "categoricals['GENDER'].unique()"
   ]
  },
  {
   "cell_type": "code",
   "execution_count": null,
   "id": "60ef7050-b3c6-4533-a4ca-67e66c1dd1eb",
   "metadata": {},
   "outputs": [],
   "source": []
  }
 ],
 "metadata": {
  "kernelspec": {
   "display_name": "venv",
   "language": "python",
   "name": "venv"
  },
  "language_info": {
   "codemirror_mode": {
    "name": "ipython",
    "version": 3
   },
   "file_extension": ".py",
   "mimetype": "text/x-python",
   "name": "python",
   "nbconvert_exporter": "python",
   "pygments_lexer": "ipython3",
   "version": "3.11.4"
  }
 },
 "nbformat": 4,
 "nbformat_minor": 5
}
